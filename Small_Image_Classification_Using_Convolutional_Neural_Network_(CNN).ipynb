{
  "nbformat": 4,
  "nbformat_minor": 0,
  "metadata": {
    "colab": {
      "name": "Small Image Classification Using Convolutional Neural Network (CNN).ipynb",
      "provenance": [],
      "collapsed_sections": [],
      "authorship_tag": "ABX9TyNNJmEF5BgNS42U8Y3wQyy7",
      "include_colab_link": true
    },
    "kernelspec": {
      "name": "python3",
      "display_name": "Python 3"
    },
    "language_info": {
      "name": "python"
    },
    "accelerator": "GPU"
  },
  "cells": [
    {
      "cell_type": "markdown",
      "metadata": {
        "id": "view-in-github",
        "colab_type": "text"
      },
      "source": [
        "<a href=\"https://colab.research.google.com/github/ShaoniMukherjee/Deep_Learning-/blob/main/Small_Image_Classification_Using_Convolutional_Neural_Network_(CNN).ipynb\" target=\"_parent\"><img src=\"https://colab.research.google.com/assets/colab-badge.svg\" alt=\"Open In Colab\"/></a>"
      ]
    },
    {
      "cell_type": "code",
      "metadata": {
        "id": "TmcngnCp6oRF"
      },
      "source": [
        "import tensorflow as tf\n",
        "from tensorflow.keras import datasets, layers, models\n",
        "import matplotlib.pyplot as plt\n",
        "import numpy as np"
      ],
      "execution_count": 1,
      "outputs": []
    },
    {
      "cell_type": "code",
      "metadata": {
        "colab": {
          "base_uri": "https://localhost:8080/"
        },
        "id": "GdAFDDEl6wgU",
        "outputId": "c6b125ca-44b3-43af-b40e-65967f0b946b"
      },
      "source": [
        "(X_train, y_train), (X_test,y_test) = datasets.cifar10.load_data()\n",
        "X_train.shape"
      ],
      "execution_count": 2,
      "outputs": [
        {
          "output_type": "stream",
          "name": "stdout",
          "text": [
            "Downloading data from https://www.cs.toronto.edu/~kriz/cifar-10-python.tar.gz\n",
            "170500096/170498071 [==============================] - 11s 0us/step\n",
            "170508288/170498071 [==============================] - 11s 0us/step\n"
          ]
        },
        {
          "output_type": "execute_result",
          "data": {
            "text/plain": [
              "(50000, 32, 32, 3)"
            ]
          },
          "metadata": {},
          "execution_count": 2
        }
      ]
    },
    {
      "cell_type": "code",
      "metadata": {
        "id": "IYNTPLy56wik"
      },
      "source": [
        "#X_train[:1]"
      ],
      "execution_count": 3,
      "outputs": []
    },
    {
      "cell_type": "code",
      "metadata": {
        "colab": {
          "base_uri": "https://localhost:8080/"
        },
        "id": "A6p1SYPh7K5f",
        "outputId": "9773c83e-6c7b-4fc6-b675-d437c52cda2c"
      },
      "source": [
        "y_train.shape"
      ],
      "execution_count": 4,
      "outputs": [
        {
          "output_type": "execute_result",
          "data": {
            "text/plain": [
              "(50000, 1)"
            ]
          },
          "metadata": {},
          "execution_count": 4
        }
      ]
    },
    {
      "cell_type": "code",
      "metadata": {
        "colab": {
          "base_uri": "https://localhost:8080/"
        },
        "id": "udbVd_VG7K7i",
        "outputId": "0d1a5bb2-135e-485c-bb8c-f19f776b2fe6"
      },
      "source": [
        "X_test.shape"
      ],
      "execution_count": 5,
      "outputs": [
        {
          "output_type": "execute_result",
          "data": {
            "text/plain": [
              "(10000, 32, 32, 3)"
            ]
          },
          "metadata": {},
          "execution_count": 5
        }
      ]
    },
    {
      "cell_type": "code",
      "metadata": {
        "colab": {
          "base_uri": "https://localhost:8080/"
        },
        "id": "cWen26-i7K_Z",
        "outputId": "18b1fbdf-066c-4c83-e4c1-e77f42102ce0"
      },
      "source": [
        "X_train[0]"
      ],
      "execution_count": 6,
      "outputs": [
        {
          "output_type": "execute_result",
          "data": {
            "text/plain": [
              "array([[[ 59,  62,  63],\n",
              "        [ 43,  46,  45],\n",
              "        [ 50,  48,  43],\n",
              "        ...,\n",
              "        [158, 132, 108],\n",
              "        [152, 125, 102],\n",
              "        [148, 124, 103]],\n",
              "\n",
              "       [[ 16,  20,  20],\n",
              "        [  0,   0,   0],\n",
              "        [ 18,   8,   0],\n",
              "        ...,\n",
              "        [123,  88,  55],\n",
              "        [119,  83,  50],\n",
              "        [122,  87,  57]],\n",
              "\n",
              "       [[ 25,  24,  21],\n",
              "        [ 16,   7,   0],\n",
              "        [ 49,  27,   8],\n",
              "        ...,\n",
              "        [118,  84,  50],\n",
              "        [120,  84,  50],\n",
              "        [109,  73,  42]],\n",
              "\n",
              "       ...,\n",
              "\n",
              "       [[208, 170,  96],\n",
              "        [201, 153,  34],\n",
              "        [198, 161,  26],\n",
              "        ...,\n",
              "        [160, 133,  70],\n",
              "        [ 56,  31,   7],\n",
              "        [ 53,  34,  20]],\n",
              "\n",
              "       [[180, 139,  96],\n",
              "        [173, 123,  42],\n",
              "        [186, 144,  30],\n",
              "        ...,\n",
              "        [184, 148,  94],\n",
              "        [ 97,  62,  34],\n",
              "        [ 83,  53,  34]],\n",
              "\n",
              "       [[177, 144, 116],\n",
              "        [168, 129,  94],\n",
              "        [179, 142,  87],\n",
              "        ...,\n",
              "        [216, 184, 140],\n",
              "        [151, 118,  84],\n",
              "        [123,  92,  72]]], dtype=uint8)"
            ]
          },
          "metadata": {},
          "execution_count": 6
        }
      ]
    },
    {
      "cell_type": "code",
      "metadata": {
        "colab": {
          "base_uri": "https://localhost:8080/",
          "height": 177
        },
        "id": "UOWZ4lQO7LCW",
        "outputId": "e81f0a99-692a-469b-89c5-4f98a576b4d0"
      },
      "source": [
        "plt.figure(figsize=(8,2))\n",
        "plt.imshow(X_train[1])"
      ],
      "execution_count": 7,
      "outputs": [
        {
          "output_type": "execute_result",
          "data": {
            "text/plain": [
              "<matplotlib.image.AxesImage at 0x7f19a6e0c6d0>"
            ]
          },
          "metadata": {},
          "execution_count": 7
        },
        {
          "output_type": "display_data",
          "data": {
            "image/png": "[encoded data removed]",
            "text/plain": [
              "<Figure size 576x144 with 1 Axes>"
            ]
          },
          "metadata": {
            "needs_background": "light"
          }
        }
      ]
    },
    {
      "cell_type": "code",
      "metadata": {
        "colab": {
          "base_uri": "https://localhost:8080/"
        },
        "id": "j0xGajyP6wmZ",
        "outputId": "641eaadd-5e98-451e-d9c7-a13af69bf132"
      },
      "source": [
        "y_train[:5]"
      ],
      "execution_count": 8,
      "outputs": [
        {
          "output_type": "execute_result",
          "data": {
            "text/plain": [
              "array([[6],\n",
              "       [9],\n",
              "       [9],\n",
              "       [4],\n",
              "       [1]], dtype=uint8)"
            ]
          },
          "metadata": {},
          "execution_count": 8
        }
      ]
    },
    {
      "cell_type": "code",
      "metadata": {
        "id": "c5ySHylR6woE"
      },
      "source": [
        "y_train = y_train.reshape(-1,)"
      ],
      "execution_count": 9,
      "outputs": []
    },
    {
      "cell_type": "code",
      "metadata": {
        "colab": {
          "base_uri": "https://localhost:8080/"
        },
        "id": "9SYlCvug6wsP",
        "outputId": "c4857551-5f50-40b8-eca2-20fa21ec51ca"
      },
      "source": [
        "y_train[0:9]"
      ],
      "execution_count": 10,
      "outputs": [
        {
          "output_type": "execute_result",
          "data": {
            "text/plain": [
              "array([6, 9, 9, 4, 1, 1, 2, 7, 8], dtype=uint8)"
            ]
          },
          "metadata": {},
          "execution_count": 10
        }
      ]
    },
    {
      "cell_type": "code",
      "metadata": {
        "id": "z9reXrlE9Iaq"
      },
      "source": [
        "classes = [\"airplane\",\"automobile\",\"bird\",\"cat\",\"deer\",\"dog\",\"frog\",\"horse\",\"ship\",\"truck\"]\n"
      ],
      "execution_count": 11,
      "outputs": []
    },
    {
      "cell_type": "code",
      "metadata": {
        "colab": {
          "base_uri": "https://localhost:8080/",
          "height": 35
        },
        "id": "Gizc2giJ9Ic6",
        "outputId": "1b480b5c-4eb8-4e30-a64f-5ed9fed73512"
      },
      "source": [
        "classes[0]"
      ],
      "execution_count": 12,
      "outputs": [
        {
          "output_type": "execute_result",
          "data": {
            "application/vnd.google.colaboratory.intrinsic+json": {
              "type": "string"
            },
            "text/plain": [
              "'airplane'"
            ]
          },
          "metadata": {},
          "execution_count": 12
        }
      ]
    },
    {
      "cell_type": "code",
      "metadata": {
        "id": "vk5zpuyz9Igy"
      },
      "source": [
        "def plot_sample(X,y, index):\n",
        "  plt.figure(figsize=(8,2))\n",
        "  plt.imshow(X[index])\n",
        "  plt.xlabel(classes[y_train[index]])"
      ],
      "execution_count": 13,
      "outputs": []
    },
    {
      "cell_type": "code",
      "metadata": {
        "colab": {
          "base_uri": "https://localhost:8080/",
          "height": 173
        },
        "id": "6SKCh6TK9IjV",
        "outputId": "8766f9f7-ed54-46e8-b847-e38f68ac8d4c"
      },
      "source": [
        "plot_sample(X_train, y_train, 2)"
      ],
      "execution_count": 14,
      "outputs": [
        {
          "output_type": "display_data",
          "data": {
            "image/png": "[encoded data removed]",
            "text/plain": [
              "<Figure size 576x144 with 1 Axes>"
            ]
          },
          "metadata": {
            "needs_background": "light"
          }
        }
      ]
    },
    {
      "cell_type": "code",
      "metadata": {
        "colab": {
          "base_uri": "https://localhost:8080/",
          "height": 173
        },
        "id": "vzXorlsU9InF",
        "outputId": "8d2e5281-24e8-4b3a-d2f3-620ae089568b"
      },
      "source": [
        "plot_sample(X_test, y_test, 8)"
      ],
      "execution_count": 15,
      "outputs": [
        {
          "output_type": "display_data",
          "data": {
            "image/png": "[encoded data removed]",
            "text/plain": [
              "<Figure size 576x144 with 1 Axes>"
            ]
          },
          "metadata": {
            "needs_background": "light"
          }
        }
      ]
    },
    {
      "cell_type": "code",
      "metadata": {
        "id": "jT_uaOIn9IpU"
      },
      "source": [
        "#Normalizing the data\n",
        "\n",
        "X_train = X_train/255\n",
        "X_test = X_test/255"
      ],
      "execution_count": 16,
      "outputs": []
    },
    {
      "cell_type": "code",
      "metadata": {
        "colab": {
          "base_uri": "https://localhost:8080/"
        },
        "id": "lzp4yvBv-Vmt",
        "outputId": "d44b1324-794c-4b02-da69-a86847a329e4"
      },
      "source": [
        "X_train[0]"
      ],
      "execution_count": 17,
      "outputs": [
        {
          "output_type": "execute_result",
          "data": {
            "text/plain": [
              "array([[[0.23137255, 0.24313725, 0.24705882],\n",
              "        [0.16862745, 0.18039216, 0.17647059],\n",
              "        [0.19607843, 0.18823529, 0.16862745],\n",
              "        ...,\n",
              "        [0.61960784, 0.51764706, 0.42352941],\n",
              "        [0.59607843, 0.49019608, 0.4       ],\n",
              "        [0.58039216, 0.48627451, 0.40392157]],\n",
              "\n",
              "       [[0.0627451 , 0.07843137, 0.07843137],\n",
              "        [0.        , 0.        , 0.        ],\n",
              "        [0.07058824, 0.03137255, 0.        ],\n",
              "        ...,\n",
              "        [0.48235294, 0.34509804, 0.21568627],\n",
              "        [0.46666667, 0.3254902 , 0.19607843],\n",
              "        [0.47843137, 0.34117647, 0.22352941]],\n",
              "\n",
              "       [[0.09803922, 0.09411765, 0.08235294],\n",
              "        [0.0627451 , 0.02745098, 0.        ],\n",
              "        [0.19215686, 0.10588235, 0.03137255],\n",
              "        ...,\n",
              "        [0.4627451 , 0.32941176, 0.19607843],\n",
              "        [0.47058824, 0.32941176, 0.19607843],\n",
              "        [0.42745098, 0.28627451, 0.16470588]],\n",
              "\n",
              "       ...,\n",
              "\n",
              "       [[0.81568627, 0.66666667, 0.37647059],\n",
              "        [0.78823529, 0.6       , 0.13333333],\n",
              "        [0.77647059, 0.63137255, 0.10196078],\n",
              "        ...,\n",
              "        [0.62745098, 0.52156863, 0.2745098 ],\n",
              "        [0.21960784, 0.12156863, 0.02745098],\n",
              "        [0.20784314, 0.13333333, 0.07843137]],\n",
              "\n",
              "       [[0.70588235, 0.54509804, 0.37647059],\n",
              "        [0.67843137, 0.48235294, 0.16470588],\n",
              "        [0.72941176, 0.56470588, 0.11764706],\n",
              "        ...,\n",
              "        [0.72156863, 0.58039216, 0.36862745],\n",
              "        [0.38039216, 0.24313725, 0.13333333],\n",
              "        [0.3254902 , 0.20784314, 0.13333333]],\n",
              "\n",
              "       [[0.69411765, 0.56470588, 0.45490196],\n",
              "        [0.65882353, 0.50588235, 0.36862745],\n",
              "        [0.70196078, 0.55686275, 0.34117647],\n",
              "        ...,\n",
              "        [0.84705882, 0.72156863, 0.54901961],\n",
              "        [0.59215686, 0.4627451 , 0.32941176],\n",
              "        [0.48235294, 0.36078431, 0.28235294]]])"
            ]
          },
          "metadata": {},
          "execution_count": 17
        }
      ]
    },
    {
      "cell_type": "code",
      "metadata": {
        "colab": {
          "base_uri": "https://localhost:8080/"
        },
        "id": "EtIDMlHe-VpE",
        "outputId": "83598d13-fcf7-4beb-fff0-65a683b868ba"
      },
      "source": [
        "ann = models.Sequential([\n",
        "                         layers.Flatten(input_shape=(32,32,3)),\n",
        "                         layers.Dense(3000, activation='relu'),\n",
        "                         layers.Dense(1000, activation='relu'),\n",
        "                         layers.Dense(10, activation='sigmoid')\n",
        "\n",
        "])\n",
        "\n",
        "ann.compile(optimizer='SGD',loss='sparse_categorical_crossentropy',metrics=['accuracy'])\n",
        "ann.fit(X_train, y_train, epochs=15)"
      ],
      "execution_count": 18,
      "outputs": [
        {
          "output_type": "stream",
          "name": "stdout",
          "text": [
            "Epoch 1/15\n",
            "1563/1563 [==============================] - 12s 6ms/step - loss: 1.8099 - accuracy: 0.3529\n",
            "Epoch 2/15\n",
            "1563/1563 [==============================] - 9s 6ms/step - loss: 1.6222 - accuracy: 0.4254\n",
            "Epoch 3/15\n",
            "1563/1563 [==============================] - 9s 6ms/step - loss: 1.5396 - accuracy: 0.4590\n",
            "Epoch 4/15\n",
            "1563/1563 [==============================] - 9s 6ms/step - loss: 1.4802 - accuracy: 0.4787\n",
            "Epoch 5/15\n",
            "1563/1563 [==============================] - 9s 6ms/step - loss: 1.4300 - accuracy: 0.4969\n",
            "Epoch 6/15\n",
            "1563/1563 [==============================] - 9s 6ms/step - loss: 1.3873 - accuracy: 0.5126\n",
            "Epoch 7/15\n",
            "1563/1563 [==============================] - 9s 6ms/step - loss: 1.3523 - accuracy: 0.5252\n",
            "Epoch 8/15\n",
            "1563/1563 [==============================] - 9s 6ms/step - loss: 1.3171 - accuracy: 0.5384\n",
            "Epoch 9/15\n",
            "1563/1563 [==============================] - 9s 6ms/step - loss: 1.2825 - accuracy: 0.5482\n",
            "Epoch 10/15\n",
            "1563/1563 [==============================] - 9s 6ms/step - loss: 1.2506 - accuracy: 0.5617\n",
            "Epoch 11/15\n",
            "1563/1563 [==============================] - 9s 6ms/step - loss: 1.2215 - accuracy: 0.5741\n",
            "Epoch 12/15\n",
            "1563/1563 [==============================] - 9s 6ms/step - loss: 1.1928 - accuracy: 0.5838\n",
            "Epoch 13/15\n",
            "1563/1563 [==============================] - 9s 6ms/step - loss: 1.1666 - accuracy: 0.5931\n",
            "Epoch 14/15\n",
            "1563/1563 [==============================] - 9s 6ms/step - loss: 1.1398 - accuracy: 0.6020\n",
            "Epoch 15/15\n",
            "1563/1563 [==============================] - 9s 6ms/step - loss: 1.1104 - accuracy: 0.6136\n"
          ]
        },
        {
          "output_type": "execute_result",
          "data": {
            "text/plain": [
              "<keras.callbacks.History at 0x7f1990174710>"
            ]
          },
          "metadata": {},
          "execution_count": 18
        }
      ]
    },
    {
      "cell_type": "code",
      "metadata": {
        "id": "-eYoKIJR-Vtj"
      },
      "source": [
        "from sklearn.metrics import confusion_matrix, classification_report\n",
        "\n",
        "import numpy as np\n",
        "\n",
        "y_pred = ann.predict(X_test)"
      ],
      "execution_count": 19,
      "outputs": []
    },
    {
      "cell_type": "code",
      "metadata": {
        "colab": {
          "base_uri": "https://localhost:8080/"
        },
        "id": "U1bkC5ng-VwS",
        "outputId": "2ec37d5f-1204-41ed-8670-45fa478ecfe9"
      },
      "source": [
        "y_pred[2]"
      ],
      "execution_count": 20,
      "outputs": [
        {
          "output_type": "execute_result",
          "data": {
            "text/plain": [
              "array([0.9887001 , 0.92567676, 0.3760391 , 0.06540113, 0.23516932,\n",
              "       0.05935281, 0.00712469, 0.3529207 , 0.9760947 , 0.96673876],\n",
              "      dtype=float32)"
            ]
          },
          "metadata": {},
          "execution_count": 20
        }
      ]
    },
    {
      "cell_type": "code",
      "metadata": {
        "colab": {
          "base_uri": "https://localhost:8080/"
        },
        "id": "9zrHSXst-V0j",
        "outputId": "fa88695e-55c1-4423-c029-5812bd22d16d"
      },
      "source": [
        "y_test[2]"
      ],
      "execution_count": 21,
      "outputs": [
        {
          "output_type": "execute_result",
          "data": {
            "text/plain": [
              "array([8], dtype=uint8)"
            ]
          },
          "metadata": {},
          "execution_count": 21
        }
      ]
    },
    {
      "cell_type": "code",
      "metadata": {
        "id": "TYBrbTZl-V25"
      },
      "source": [
        "y_pred_classes = [np.argmax(element) for element in y_pred]"
      ],
      "execution_count": 22,
      "outputs": []
    },
    {
      "cell_type": "code",
      "metadata": {
        "colab": {
          "base_uri": "https://localhost:8080/"
        },
        "id": "VdYFZ0y--V7T",
        "outputId": "6fec9463-2309-41d7-a832-f6156939e6f4"
      },
      "source": [
        "y_pred_classes[:5]"
      ],
      "execution_count": 23,
      "outputs": [
        {
          "output_type": "execute_result",
          "data": {
            "text/plain": [
              "[3, 9, 0, 0, 4]"
            ]
          },
          "metadata": {},
          "execution_count": 23
        }
      ]
    },
    {
      "cell_type": "code",
      "metadata": {
        "colab": {
          "base_uri": "https://localhost:8080/"
        },
        "id": "MC873-iT-V-N",
        "outputId": "f651700e-7de1-4ce2-9760-3ab8276dbc68"
      },
      "source": [
        "print( \"classification report :\\n\", classification_report(y_test,y_pred_classes ))"
      ],
      "execution_count": 24,
      "outputs": [
        {
          "output_type": "stream",
          "name": "stdout",
          "text": [
            "classification report :\n",
            "               precision    recall  f1-score   support\n",
            "\n",
            "           0       0.43      0.78      0.55      1000\n",
            "           1       0.65      0.66      0.65      1000\n",
            "           2       0.51      0.25      0.34      1000\n",
            "           3       0.42      0.28      0.34      1000\n",
            "           4       0.55      0.34      0.42      1000\n",
            "           5       0.53      0.35      0.42      1000\n",
            "           6       0.55      0.66      0.60      1000\n",
            "           7       0.51      0.67      0.58      1000\n",
            "           8       0.68      0.62      0.65      1000\n",
            "           9       0.51      0.66      0.58      1000\n",
            "\n",
            "    accuracy                           0.53     10000\n",
            "   macro avg       0.53      0.53      0.51     10000\n",
            "weighted avg       0.53      0.53      0.51     10000\n",
            "\n"
          ]
        }
      ]
    },
    {
      "cell_type": "code",
      "metadata": {
        "id": "yRd2HuiM9Is_"
      },
      "source": [
        "#CNN\n",
        "\n",
        "cnn = models.Sequential([layers.Conv2D(filters=32, kernel_size=(3, 3), activation='relu', input_shape=(32, 32, 3)),\n",
        "    layers.MaxPooling2D((2, 2)),\n",
        "    \n",
        "    layers.Conv2D(filters=64, kernel_size=(3, 3), activation='relu'),\n",
        "    layers.MaxPooling2D((2, 2)),\n",
        "    \n",
        "    layers.Flatten(),\n",
        "    layers.Dense(64, activation='relu'),\n",
        "    layers.Dense(10, activation='softmax')])"
      ],
      "execution_count": 25,
      "outputs": []
    },
    {
      "cell_type": "code",
      "metadata": {
        "id": "gotPoTH9R_T5"
      },
      "source": [
        "cnn.compile(optimizer='adam',\n",
        "              loss='sparse_categorical_crossentropy',\n",
        "              metrics=['accuracy'])"
      ],
      "execution_count": 26,
      "outputs": []
    },
    {
      "cell_type": "code",
      "metadata": {
        "colab": {
          "base_uri": "https://localhost:8080/"
        },
        "id": "DT0jHxxKR_WS",
        "outputId": "f293fb82-fc5d-4447-ba88-3f7c1cb98e9d"
      },
      "source": [
        "cnn.fit(X_train, y_train, epochs=15)\n"
      ],
      "execution_count": 27,
      "outputs": [
        {
          "output_type": "stream",
          "name": "stdout",
          "text": [
            "Epoch 1/15\n",
            "1563/1563 [==============================] - 38s 6ms/step - loss: 1.4436 - accuracy: 0.4847\n",
            "Epoch 2/15\n",
            "1563/1563 [==============================] - 9s 6ms/step - loss: 1.0983 - accuracy: 0.6134\n",
            "Epoch 3/15\n",
            "1563/1563 [==============================] - 9s 6ms/step - loss: 0.9742 - accuracy: 0.6585\n",
            "Epoch 4/15\n",
            "1563/1563 [==============================] - 9s 6ms/step - loss: 0.8847 - accuracy: 0.6927\n",
            "Epoch 5/15\n",
            "1563/1563 [==============================] - 9s 6ms/step - loss: 0.8201 - accuracy: 0.7135\n",
            "Epoch 6/15\n",
            "1563/1563 [==============================] - 9s 6ms/step - loss: 0.7640 - accuracy: 0.7339\n",
            "Epoch 7/15\n",
            "1563/1563 [==============================] - 9s 6ms/step - loss: 0.7123 - accuracy: 0.7502\n",
            "Epoch 8/15\n",
            "1563/1563 [==============================] - 9s 6ms/step - loss: 0.6708 - accuracy: 0.7659\n",
            "Epoch 9/15\n",
            "1563/1563 [==============================] - 9s 6ms/step - loss: 0.6257 - accuracy: 0.7802\n",
            "Epoch 10/15\n",
            "1563/1563 [==============================] - 9s 6ms/step - loss: 0.5842 - accuracy: 0.7968\n",
            "Epoch 11/15\n",
            "1563/1563 [==============================] - 9s 6ms/step - loss: 0.5496 - accuracy: 0.8080\n",
            "Epoch 12/15\n",
            "1563/1563 [==============================] - 9s 6ms/step - loss: 0.5167 - accuracy: 0.8177\n",
            "Epoch 13/15\n",
            "1563/1563 [==============================] - 9s 6ms/step - loss: 0.4759 - accuracy: 0.8318\n",
            "Epoch 14/15\n",
            "1563/1563 [==============================] - 9s 6ms/step - loss: 0.4434 - accuracy: 0.8425\n",
            "Epoch 15/15\n",
            "1563/1563 [==============================] - 9s 6ms/step - loss: 0.4094 - accuracy: 0.8551\n"
          ]
        },
        {
          "output_type": "execute_result",
          "data": {
            "text/plain": [
              "<keras.callbacks.History at 0x7f19a14a9fd0>"
            ]
          },
          "metadata": {},
          "execution_count": 27
        }
      ]
    },
    {
      "cell_type": "code",
      "metadata": {
        "colab": {
          "base_uri": "https://localhost:8080/"
        },
        "id": "GdY25krHR_aS",
        "outputId": "4bced868-e374-4be9-a40f-d17986f61bb6"
      },
      "source": [
        "cnn.evaluate(X_test, y_test)"
      ],
      "execution_count": 28,
      "outputs": [
        {
          "output_type": "stream",
          "name": "stdout",
          "text": [
            "313/313 [==============================] - 1s 4ms/step - loss: 1.1617 - accuracy: 0.6751\n"
          ]
        },
        {
          "output_type": "execute_result",
          "data": {
            "text/plain": [
              "[1.1616724729537964, 0.6751000285148621]"
            ]
          },
          "metadata": {},
          "execution_count": 28
        }
      ]
    },
    {
      "cell_type": "code",
      "metadata": {
        "id": "W-iB1VwsR_co"
      },
      "source": [
        "y_pred = cnn.predict(X_test)"
      ],
      "execution_count": 29,
      "outputs": []
    },
    {
      "cell_type": "code",
      "metadata": {
        "colab": {
          "base_uri": "https://localhost:8080/"
        },
        "id": "3KaLNf3fR_g9",
        "outputId": "e25f27df-131f-4e07-9d3a-1e3355f4a945"
      },
      "source": [
        "y_pred[1]"
      ],
      "execution_count": 30,
      "outputs": [
        {
          "output_type": "execute_result",
          "data": {
            "text/plain": [
              "array([4.1423004e-06, 6.0225111e-01, 8.0502671e-09, 4.2974491e-09,\n",
              "       1.4102886e-09, 5.9867877e-13, 1.1081152e-15, 1.8032471e-12,\n",
              "       3.9698851e-01, 7.5613160e-04], dtype=float32)"
            ]
          },
          "metadata": {},
          "execution_count": 30
        }
      ]
    },
    {
      "cell_type": "code",
      "metadata": {
        "id": "Ci8klWYtR_jB"
      },
      "source": [
        "y_pred_classes = [np.argmax(element) for element in y_pred]"
      ],
      "execution_count": 32,
      "outputs": []
    },
    {
      "cell_type": "code",
      "metadata": {
        "colab": {
          "base_uri": "https://localhost:8080/"
        },
        "id": "8yBwTjx5R_nK",
        "outputId": "d0eb395f-1e2d-4e76-b4e9-98fb832e2b1a"
      },
      "source": [
        "y_pred_classes[:5]"
      ],
      "execution_count": 33,
      "outputs": [
        {
          "output_type": "execute_result",
          "data": {
            "text/plain": [
              "[3, 1, 1, 0, 6]"
            ]
          },
          "metadata": {},
          "execution_count": 33
        }
      ]
    },
    {
      "cell_type": "code",
      "metadata": {
        "colab": {
          "base_uri": "https://localhost:8080/"
        },
        "id": "DdSFAak6fN7v",
        "outputId": "d4ce8c95-c62d-402d-debe-b67093b3f13c"
      },
      "source": [
        "y_test[:5]"
      ],
      "execution_count": 34,
      "outputs": [
        {
          "output_type": "execute_result",
          "data": {
            "text/plain": [
              "array([[3],\n",
              "       [8],\n",
              "       [8],\n",
              "       [0],\n",
              "       [6]], dtype=uint8)"
            ]
          },
          "metadata": {},
          "execution_count": 34
        }
      ]
    },
    {
      "cell_type": "code",
      "metadata": {
        "colab": {
          "base_uri": "https://localhost:8080/",
          "height": 173
        },
        "id": "stGGHP2ofN9q",
        "outputId": "59e058d4-3889-43a4-8f51-16ec4976ed11"
      },
      "source": [
        "plot_sample(X_test, y_test,3)\n"
      ],
      "execution_count": 35,
      "outputs": [
        {
          "output_type": "display_data",
          "data": {
            "image/png": "[encoded data removed]",
            "text/plain": [
              "<Figure size 576x144 with 1 Axes>"
            ]
          },
          "metadata": {
            "needs_background": "light"
          }
        }
      ]
    },
    {
      "cell_type": "code",
      "metadata": {
        "colab": {
          "base_uri": "https://localhost:8080/",
          "height": 173
        },
        "id": "HBraidecfOB7",
        "outputId": "07c19435-445a-4356-ee30-46b36e2d9ede"
      },
      "source": [
        "plot_sample(X_test, y_pred_classes,3)\n"
      ],
      "execution_count": 36,
      "outputs": [
        {
          "output_type": "display_data",
          "data": {
            "image/png": "[encoded data removed]",
            "text/plain": [
              "<Figure size 576x144 with 1 Axes>"
            ]
          },
          "metadata": {
            "needs_background": "light"
          }
        }
      ]
    },
    {
      "cell_type": "code",
      "metadata": {
        "id": "7cumMTpCfODi"
      },
      "source": [
        ""
      ],
      "execution_count": null,
      "outputs": []
    },
    {
      "cell_type": "code",
      "metadata": {
        "id": "wOmk5sT2fOIu"
      },
      "source": [
        ""
      ],
      "execution_count": null,
      "outputs": []
    },
    {
      "cell_type": "code",
      "metadata": {
        "id": "KdakCqXnR_qG"
      },
      "source": [
        ""
      ],
      "execution_count": 24,
      "outputs": []
    }
  ]
}