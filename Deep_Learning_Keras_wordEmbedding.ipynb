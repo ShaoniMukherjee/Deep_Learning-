{
  "nbformat": 4,
  "nbformat_minor": 0,
  "metadata": {
    "colab": {
      "name": "Deep_Learning_Keras_wordEmbedding",
      "provenance": [],
      "authorship_tag": "ABX9TyNoTKZwQLP6QxjZMr8hNaoU",
      "include_colab_link": true
    },
    "kernelspec": {
      "name": "python3",
      "display_name": "Python 3"
    },
    "language_info": {
      "name": "python"
    }
  },
  "cells": [
    {
      "cell_type": "markdown",
      "metadata": {
        "id": "view-in-github",
        "colab_type": "text"
      },
      "source": [
        "<a href=\"https://colab.research.google.com/github/ShaoniMukherjee/Deep_Learning-/blob/main/Deep_Learning_Keras_wordEmbedding.ipynb\" target=\"_parent\"><img src=\"https://colab.research.google.com/assets/colab-badge.svg\" alt=\"Open In Colab\"/></a>"
      ]
    },
    {
      "cell_type": "code",
      "metadata": {
        "id": "Vp4gLDoVv4N0"
      },
      "source": [
        "import numpy as np\n",
        "from tensorflow.keras.preprocessing.text import one_hot\n",
        "from tensorflow.keras.preprocessing.sequence import pad_sequences\n",
        "from tensorflow.keras.models import Sequential\n",
        "from tensorflow.keras.layers import Dense\n",
        "from tensorflow.keras.layers import Flatten\n",
        "from tensorflow.keras.layers import Embedding"
      ],
      "execution_count": 1,
      "outputs": []
    },
    {
      "cell_type": "code",
      "metadata": {
        "id": "IhTXiJ9CwxFD"
      },
      "source": [
        "reviews = ['nice food',\n",
        "        'amazing restaurant',\n",
        "        'too good',\n",
        "        'just loved it!',\n",
        "        'will go again',\n",
        "        'horrible food',\n",
        "        'never go there',\n",
        "        'poor service',\n",
        "        'poor quality',\n",
        "        'needs improvement']"
      ],
      "execution_count": 2,
      "outputs": []
    },
    {
      "cell_type": "code",
      "metadata": {
        "id": "pI5hHH89wxHz"
      },
      "source": [
        "sentiment = np.array([1,1,1,1,1,0,0,0,0,0])"
      ],
      "execution_count": 3,
      "outputs": []
    },
    {
      "cell_type": "code",
      "metadata": {
        "colab": {
          "base_uri": "https://localhost:8080/"
        },
        "id": "cEM7THIAwxKj",
        "outputId": "20a6fe14-50de-4f00-c6cb-a4a76c695537"
      },
      "source": [
        "one_hot(\"amazing restaurant\",30)"
      ],
      "execution_count": 7,
      "outputs": [
        {
          "output_type": "execute_result",
          "data": {
            "text/plain": [
              "[9, 23]"
            ]
          },
          "metadata": {},
          "execution_count": 7
        }
      ]
    },
    {
      "cell_type": "code",
      "metadata": {
        "colab": {
          "base_uri": "https://localhost:8080/"
        },
        "id": "ldWLRSRIwxNT",
        "outputId": "fa5817e7-d642-4a28-84cc-b8bc7455e306"
      },
      "source": [
        "vocab_size=30\n",
        "\n",
        "encode_reviews = [one_hot(d, vocab_size) for d in reviews]\n",
        "encode_reviews"
      ],
      "execution_count": 8,
      "outputs": [
        {
          "output_type": "execute_result",
          "data": {
            "text/plain": [
              "[[8, 7],\n",
              " [9, 23],\n",
              " [27, 17],\n",
              " [9, 23, 3],\n",
              " [14, 28, 23],\n",
              " [1, 7],\n",
              " [14, 28, 12],\n",
              " [4, 11],\n",
              " [4, 17],\n",
              " [3, 4]]"
            ]
          },
          "metadata": {},
          "execution_count": 8
        }
      ]
    },
    {
      "cell_type": "code",
      "metadata": {
        "colab": {
          "base_uri": "https://localhost:8080/"
        },
        "id": "1ocpEGA8wjdn",
        "outputId": "888d6c8b-7160-42e3-e478-8485cd8d5f21"
      },
      "source": [
        "max_lenght = 3\n",
        "padded_reviews = pad_sequences(encode_reviews, maxlen = max_lenght, padding='post')\n",
        "padded_reviews\n"
      ],
      "execution_count": 10,
      "outputs": [
        {
          "output_type": "execute_result",
          "data": {
            "text/plain": [
              "array([[ 8,  7,  0],\n",
              "       [ 9, 23,  0],\n",
              "       [27, 17,  0],\n",
              "       [ 9, 23,  3],\n",
              "       [14, 28, 23],\n",
              "       [ 1,  7,  0],\n",
              "       [14, 28, 12],\n",
              "       [ 4, 11,  0],\n",
              "       [ 4, 17,  0],\n",
              "       [ 3,  4,  0]], dtype=int32)"
            ]
          },
          "metadata": {},
          "execution_count": 10
        }
      ]
    },
    {
      "cell_type": "code",
      "metadata": {
        "id": "QCnQZtbCwjgX"
      },
      "source": [
        "embeded_vector_size=5\n",
        "\n",
        "model = Sequential()\n",
        "model.add(Embedding(vocab_size, embeded_vector_size, input_length=max_lenght, name=\"embedding\"))\n",
        "model.add(Flatten())\n",
        "model.add(Dense(1, activation='sigmoid'))\n"
      ],
      "execution_count": 11,
      "outputs": []
    },
    {
      "cell_type": "code",
      "metadata": {
        "id": "STI918CbwjjH"
      },
      "source": [
        "X = padded_reviews\n",
        "y = sentiment"
      ],
      "execution_count": 12,
      "outputs": []
    },
    {
      "cell_type": "code",
      "metadata": {
        "colab": {
          "base_uri": "https://localhost:8080/"
        },
        "id": "70rHYXgt2oIA",
        "outputId": "1551ff79-86d0-44c6-996f-acbdfa57fa49"
      },
      "source": [
        "model.compile(optimizer='adam',loss='binary_crossentropy',metrics=['accuracy'])\n",
        "\n",
        "print(model.summary())\n"
      ],
      "execution_count": 14,
      "outputs": [
        {
          "output_type": "stream",
          "name": "stdout",
          "text": [
            "Model: \"sequential\"\n",
            "_________________________________________________________________\n",
            "Layer (type)                 Output Shape              Param #   \n",
            "=================================================================\n",
            "embedding (Embedding)        (None, 3, 5)              150       \n",
            "_________________________________________________________________\n",
            "flatten (Flatten)            (None, 15)                0         \n",
            "_________________________________________________________________\n",
            "dense (Dense)                (None, 1)                 16        \n",
            "=================================================================\n",
            "Total params: 166\n",
            "Trainable params: 166\n",
            "Non-trainable params: 0\n",
            "_________________________________________________________________\n",
            "None\n"
          ]
        }
      ]
    },
    {
      "cell_type": "code",
      "metadata": {
        "colab": {
          "base_uri": "https://localhost:8080/"
        },
        "id": "3OZMrFq62oKv",
        "outputId": "390c7101-d191-4bfe-f11e-f5290d8dacc2"
      },
      "source": [
        "model.fit(X, y, epochs=15, verbose=0)"
      ],
      "execution_count": 17,
      "outputs": [
        {
          "output_type": "execute_result",
          "data": {
            "text/plain": [
              "<keras.callbacks.History at 0x7fc53241ba50>"
            ]
          },
          "metadata": {},
          "execution_count": 17
        }
      ]
    },
    {
      "cell_type": "code",
      "metadata": {
        "colab": {
          "base_uri": "https://localhost:8080/"
        },
        "id": "JttfbAX52oNi",
        "outputId": "53c525a6-57f8-43a5-bd28-4c0dd50d3bfe"
      },
      "source": [
        "# evaluate the model\n",
        "loss, accuracy = model.evaluate(X, y)\n",
        "accuracy"
      ],
      "execution_count": 18,
      "outputs": [
        {
          "output_type": "stream",
          "name": "stdout",
          "text": [
            "1/1 [==============================] - 0s 17ms/step - loss: 0.6732 - accuracy: 0.8000\n"
          ]
        },
        {
          "output_type": "execute_result",
          "data": {
            "text/plain": [
              "0.800000011920929"
            ]
          },
          "metadata": {},
          "execution_count": 18
        }
      ]
    },
    {
      "cell_type": "code",
      "metadata": {
        "colab": {
          "base_uri": "https://localhost:8080/"
        },
        "id": "wx67Ftv93hsx",
        "outputId": "a519a539-8c3e-4abb-9813-088cfbeb121d"
      },
      "source": [
        "weights = model.get_layer('embedding').get_weights()[0]\n",
        "len(weights)"
      ],
      "execution_count": 20,
      "outputs": [
        {
          "output_type": "execute_result",
          "data": {
            "text/plain": [
              "30"
            ]
          },
          "metadata": {},
          "execution_count": 20
        }
      ]
    },
    {
      "cell_type": "code",
      "metadata": {
        "id": "IsPqQmDD3hvh"
      },
      "source": [
        ""
      ],
      "execution_count": null,
      "outputs": []
    },
    {
      "cell_type": "code",
      "metadata": {
        "id": "fkqWt8I_3hx_"
      },
      "source": [
        ""
      ],
      "execution_count": null,
      "outputs": []
    },
    {
      "cell_type": "code",
      "metadata": {
        "id": "1Zt6jQ1X3h0v"
      },
      "source": [
        ""
      ],
      "execution_count": null,
      "outputs": []
    },
    {
      "cell_type": "code",
      "metadata": {
        "id": "1SwmJcHF2oQj"
      },
      "source": [
        ""
      ],
      "execution_count": null,
      "outputs": []
    }
  ]
}